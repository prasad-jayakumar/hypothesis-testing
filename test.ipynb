{
  "nbformat": 4,
  "nbformat_minor": 0,
  "metadata": {
    "colab": {
      "provenance": []
    },
    "kernelspec": {
      "name": "python3",
      "display_name": "Python 3"
    },
    "language_info": {
      "name": "python"
    }
  },
  "cells": [
    {
      "cell_type": "markdown",
      "source": [
        "## 4. Generate a sample of 500 data points from a Poisson distribution with parameter 3. Plot a histogram of the data. Does it resemble a Poisson distribution? Explain."
      ],
      "metadata": {
        "id": "9zJhylmQpR3D"
      }
    },
    {
      "cell_type": "code",
      "source": [
        "from scipy.stats import poisson\n",
        "import matplotlib.pyplot as plt\n",
        "import numpy as np\n"
      ],
      "metadata": {
        "id": "F2ITyWhzp-R3"
      },
      "execution_count": null,
      "outputs": []
    },
    {
      "cell_type": "code",
      "source": [
        "#generate random values from Poisson distribution with mean=3 and sample size=500\n",
        "psn = poisson.rvs(mu=3, size=500)\n",
        "plt.hist(psn, bins=20)\n",
        "plt.show()"
      ],
      "metadata": {
        "colab": {
          "base_uri": "https://localhost:8080/",
          "height": 264
        },
        "id": "B7jw7w_4of0_",
        "outputId": "a87104bb-7d50-4438-9d23-6a523978f28c"
      },
      "execution_count": null,
      "outputs": [
        {
          "output_type": "display_data",
          "data": {
            "text/plain": [
              "<Figure size 432x288 with 1 Axes>"
            ],
            "image/png": "[encoded data removed]"
          },
          "metadata": {
            "needs_background": "light"
          }
        }
      ]
    },
    {
      "cell_type": "markdown",
      "source": [
        "###Explanation:\n",
        "The histogram shows the distribution is right skewed and shows a peak value near 3 which is the mean parameter. The distribution as expected is not a normal distribution as expected for a poisson distribution.\n",
        "Hence overall the histogram plot resembles Poisson distribution."
      ],
      "metadata": {
        "id": "u6ND6gXMpXxf"
      }
    },
    {
      "cell_type": "markdown",
      "source": [
        "## 5. Generate a sample of 500 data points from a uniform distribution between 0 and 1. Plot a histogram of the data. Does it resemble a uniform distribution? Explain"
      ],
      "metadata": {
        "id": "JtESjadSqn2p"
      }
    },
    {
      "cell_type": "code",
      "source": [
        "unfm = np.random.uniform(0, 1, 500)\n",
        "plt.hist(unfm, bins=20)\n",
        "plt.show()\n"
      ],
      "metadata": {
        "colab": {
          "base_uri": "https://localhost:8080/",
          "height": 264
        },
        "id": "eGy4XhAUqtYF",
        "outputId": "435d6338-edc1-4d47-cf5d-9859bfc9135d"
      },
      "execution_count": null,
      "outputs": [
        {
          "output_type": "display_data",
          "data": {
            "text/plain": [
              "<Figure size 432x288 with 1 Axes>"
            ],
            "image/png": "[encoded data removed]"
          },
          "metadata": {
            "needs_background": "light"
          }
        }
      ]
    },
    {
      "cell_type": "markdown",
      "source": [
        "###Explanation\n",
        "The histogram distribution is flat and approximately uniform across the range of given values. The number of data in each bin is roughly equal or spread uniformly and hence the shown distribution is approximately a uniform distribution."
      ],
      "metadata": {
        "id": "12hbHQq4rykJ"
      }
    },
    {
      "cell_type": "markdown",
      "source": [
        "## 7. Generate 200 samples of size 30 from a binomial distribution with parameters n=50 and p=0.4. For each sample, calculate the sample mean. Plot a histogram of the sample means. Does it resemble a normal distribution? Explain"
      ],
      "metadata": {
        "id": "aPDFSlE2tCh6"
      }
    },
    {
      "cell_type": "code",
      "source": [
        "from scipy.stats import binom\n",
        "\n",
        "##no of trials\n",
        "n = 50\n",
        "## probability of success\n",
        "p = 0.4\n",
        "sample_means = []\n",
        "\n",
        "for i in range(200):\n",
        "    sample = binom.rvs(n, p, size=30)\n",
        "    sample_mean = np.mean(sample)\n",
        "    sample_means.append(sample_mean)\n"
      ],
      "metadata": {
        "id": "Kgys_Bt0ulwW"
      },
      "execution_count": null,
      "outputs": []
    },
    {
      "cell_type": "code",
      "source": [
        "# plot a histogram\n",
        "plt.hist(sample_means, bins=20)\n",
        "plt.show()"
      ],
      "metadata": {
        "colab": {
          "base_uri": "https://localhost:8080/",
          "height": 264
        },
        "id": "Gz6zvpRGvLiw",
        "outputId": "f280d9b7-819b-416b-ce59-2c054fc0be26"
      },
      "execution_count": null,
      "outputs": [
        {
          "output_type": "display_data",
          "data": {
            "text/plain": [
              "<Figure size 432x288 with 1 Axes>"
            ],
            "image/png": "[encoded data removed]"
          },
          "metadata": {
            "needs_background": "light"
          }
        }
      ]
    },
    {
      "cell_type": "markdown",
      "source": [
        "##Explanation -\n",
        "The resulting histogram shows the distribution is roughly bell shaped and symmetric and continuous.\n",
        "The peak is also near the expected population mean of (n*p) = (50 * 0.4) = 20.\n",
        "As per the central limit theorem, the binomial distribution with 200 samples of size 30 does resemble a normal distribution."
      ],
      "metadata": {
        "id": "wJmvjr7gvk9f"
      }
    },
    {
      "cell_type": "markdown",
      "source": [
        "## 8 Solve the following questions using the dataset"
      ],
      "metadata": {
        "id": "y4xvSlRODJrz"
      }
    },
    {
      "cell_type": "code",
      "source": [
        "from google.colab import drive\n",
        "drive.mount('/content/drive')\n",
        "import pandas as pd\n",
        "from scipy import stats\n",
        "import statsmodels.stats.proportion as prop\n",
        "import scipy.stats as stats"
      ],
      "metadata": {
        "colab": {
          "base_uri": "https://localhost:8080/"
        },
        "id": "1x0kh8_gDIlj",
        "outputId": "f1eb89ec-64b6-4c19-f8ff-7773264c8f45"
      },
      "execution_count": null,
      "outputs": [
        {
          "output_type": "stream",
          "name": "stdout",
          "text": [
            "Drive already mounted at /content/drive; to attempt to forcibly remount, call drive.mount(\"/content/drive\", force_remount=True).\n"
          ]
        }
      ]
    },
    {
      "cell_type": "code",
      "source": [
        "df = pd.read_csv('drive/MyDrive/msda/1st sem/math/diagnosis.data', delimiter='\\t|(?<!\\d),(?!\\d)', header=None, engine='python', encoding = 'utf-16')\n",
        "df[0] = df[0].str.replace(',', '.').astype(float)\n",
        "df.columns=['temperature', 'nausea',  'lumbar_pain', 'u_push', 'mic_pain', 'burn_itch_swell', 'dec_infl', 'dec_neph']"
      ],
      "metadata": {
        "id": "9b4WgJ4oDXua"
      },
      "execution_count": null,
      "outputs": []
    },
    {
      "cell_type": "code",
      "source": [
        "df.head()"
      ],
      "metadata": {
        "colab": {
          "base_uri": "https://localhost:8080/",
          "height": 201
        },
        "id": "30YJmMp-DzRM",
        "outputId": "5abada55-0968-4440-edf6-90de35121021"
      },
      "execution_count": null,
      "outputs": [
        {
          "output_type": "execute_result",
          "data": {
            "text/plain": [
              "   temperature nausea lumbar_pain u_push mic_pain burn_itch_swell dec_infl  \\\n",
              "0         35.5     no         yes     no       no              no       no   \n",
              "1         35.9     no          no    yes      yes             yes      yes   \n",
              "2         35.9     no         yes     no       no              no       no   \n",
              "3         36.0     no          no    yes      yes             yes      yes   \n",
              "4         36.0     no         yes     no       no              no       no   \n",
              "\n",
              "  dec_neph  \n",
              "0       no  \n",
              "1       no  \n",
              "2       no  \n",
              "3       no  \n",
              "4       no  "
            ],
            "text/html": [
              "\n",
              "  <div id=\"df-7d9f9070-71e0-4a81-8190-25bf8b0b3cc0\">\n",
              "    <div class=\"colab-df-container\">\n",
              "      <div>\n",
              "<style scoped>\n",
              "    .dataframe tbody tr th:only-of-type {\n",
              "        vertical-align: middle;\n",
              "    }\n",
              "\n",
              "    .dataframe tbody tr th {\n",
              "        vertical-align: top;\n",
              "    }\n",
              "\n",
              "    .dataframe thead th {\n",
              "        text-align: right;\n",
              "    }\n",
              "</style>\n",
              "<table border=\"1\" class=\"dataframe\">\n",
              "  <thead>\n",
              "    <tr style=\"text-align: right;\">\n",
              "      <th></th>\n",
              "      <th>temperature</th>\n",
              "      <th>nausea</th>\n",
              "      <th>lumbar_pain</th>\n",
              "      <th>u_push</th>\n",
              "      <th>mic_pain</th>\n",
              "      <th>burn_itch_swell</th>\n",
              "      <th>dec_infl</th>\n",
              "      <th>dec_neph</th>\n",
              "    </tr>\n",
              "  </thead>\n",
              "  <tbody>\n",
              "    <tr>\n",
              "      <th>0</th>\n",
              "      <td>35.5</td>\n",
              "      <td>no</td>\n",
              "      <td>yes</td>\n",
              "      <td>no</td>\n",
              "      <td>no</td>\n",
              "      <td>no</td>\n",
              "      <td>no</td>\n",
              "      <td>no</td>\n",
              "    </tr>\n",
              "    <tr>\n",
              "      <th>1</th>\n",
              "      <td>35.9</td>\n",
              "      <td>no</td>\n",
              "      <td>no</td>\n",
              "      <td>yes</td>\n",
              "      <td>yes</td>\n",
              "      <td>yes</td>\n",
              "      <td>yes</td>\n",
              "      <td>no</td>\n",
              "    </tr>\n",
              "    <tr>\n",
              "      <th>2</th>\n",
              "      <td>35.9</td>\n",
              "      <td>no</td>\n",
              "      <td>yes</td>\n",
              "      <td>no</td>\n",
              "      <td>no</td>\n",
              "      <td>no</td>\n",
              "      <td>no</td>\n",
              "      <td>no</td>\n",
              "    </tr>\n",
              "    <tr>\n",
              "      <th>3</th>\n",
              "      <td>36.0</td>\n",
              "      <td>no</td>\n",
              "      <td>no</td>\n",
              "      <td>yes</td>\n",
              "      <td>yes</td>\n",
              "      <td>yes</td>\n",
              "      <td>yes</td>\n",
              "      <td>no</td>\n",
              "    </tr>\n",
              "    <tr>\n",
              "      <th>4</th>\n",
              "      <td>36.0</td>\n",
              "      <td>no</td>\n",
              "      <td>yes</td>\n",
              "      <td>no</td>\n",
              "      <td>no</td>\n",
              "      <td>no</td>\n",
              "      <td>no</td>\n",
              "      <td>no</td>\n",
              "    </tr>\n",
              "  </tbody>\n",
              "</table>\n",
              "</div>\n",
              "      <button class=\"colab-df-convert\" onclick=\"convertToInteractive('df-7d9f9070-71e0-4a81-8190-25bf8b0b3cc0')\"\n",
              "              title=\"Convert this dataframe to an interactive table.\"\n",
              "              style=\"display:none;\">\n",
              "        \n",
              "  <svg xmlns=\"http://www.w3.org/2000/svg\" height=\"24px\"viewBox=\"0 0 24 24\"\n",
              "       width=\"24px\">\n",
              "    <path d=\"M0 0h24v24H0V0z\" fill=\"none\"/>\n",
              "    <path d=\"M18.56 5.44l.94 2.06.94-2.06 2.06-.94-2.06-.94-.94-2.06-.94 2.06-2.06.94zm-11 1L8.5 8.5l.94-2.06 2.06-.94-2.06-.94L8.5 2.5l-.94 2.06-2.06.94zm10 10l.94 2.06.94-2.06 2.06-.94-2.06-.94-.94-2.06-.94 2.06-2.06.94z\"/><path d=\"M17.41 7.96l-1.37-1.37c-.4-.4-.92-.59-1.43-.59-.52 0-1.04.2-1.43.59L10.3 9.45l-7.72 7.72c-.78.78-.78 2.05 0 2.83L4 21.41c.39.39.9.59 1.41.59.51 0 1.02-.2 1.41-.59l7.78-7.78 2.81-2.81c.8-.78.8-2.07 0-2.86zM5.41 20L4 18.59l7.72-7.72 1.47 1.35L5.41 20z\"/>\n",
              "  </svg>\n",
              "      </button>\n",
              "      \n",
              "  <style>\n",
              "    .colab-df-container {\n",
              "      display:flex;\n",
              "      flex-wrap:wrap;\n",
              "      gap: 12px;\n",
              "    }\n",
              "\n",
              "    .colab-df-convert {\n",
              "      background-color: #E8F0FE;\n",
              "      border: none;\n",
              "      border-radius: 50%;\n",
              "      cursor: pointer;\n",
              "      display: none;\n",
              "      fill: #1967D2;\n",
              "      height: 32px;\n",
              "      padding: 0 0 0 0;\n",
              "      width: 32px;\n",
              "    }\n",
              "\n",
              "    .colab-df-convert:hover {\n",
              "      background-color: #E2EBFA;\n",
              "      box-shadow: 0px 1px 2px rgba(60, 64, 67, 0.3), 0px 1px 3px 1px rgba(60, 64, 67, 0.15);\n",
              "      fill: #174EA6;\n",
              "    }\n",
              "\n",
              "    [theme=dark] .colab-df-convert {\n",
              "      background-color: #3B4455;\n",
              "      fill: #D2E3FC;\n",
              "    }\n",
              "\n",
              "    [theme=dark] .colab-df-convert:hover {\n",
              "      background-color: #434B5C;\n",
              "      box-shadow: 0px 1px 3px 1px rgba(0, 0, 0, 0.15);\n",
              "      filter: drop-shadow(0px 1px 2px rgba(0, 0, 0, 0.3));\n",
              "      fill: #FFFFFF;\n",
              "    }\n",
              "  </style>\n",
              "\n",
              "      <script>\n",
              "        const buttonEl =\n",
              "          document.querySelector('#df-7d9f9070-71e0-4a81-8190-25bf8b0b3cc0 button.colab-df-convert');\n",
              "        buttonEl.style.display =\n",
              "          google.colab.kernel.accessAllowed ? 'block' : 'none';\n",
              "\n",
              "        async function convertToInteractive(key) {\n",
              "          const element = document.querySelector('#df-7d9f9070-71e0-4a81-8190-25bf8b0b3cc0');\n",
              "          const dataTable =\n",
              "            await google.colab.kernel.invokeFunction('convertToInteractive',\n",
              "                                                     [key], {});\n",
              "          if (!dataTable) return;\n",
              "\n",
              "          const docLinkHtml = 'Like what you see? Visit the ' +\n",
              "            '<a target=\"_blank\" href=https://colab.research.google.com/notebooks/data_table.ipynb>data table notebook</a>'\n",
              "            + ' to learn more about interactive tables.';\n",
              "          element.innerHTML = '';\n",
              "          dataTable['output_type'] = 'display_data';\n",
              "          await google.colab.output.renderOutput(dataTable, element);\n",
              "          const docLink = document.createElement('div');\n",
              "          docLink.innerHTML = docLinkHtml;\n",
              "          element.appendChild(docLink);\n",
              "        }\n",
              "      </script>\n",
              "    </div>\n",
              "  </div>\n",
              "  "
            ]
          },
          "metadata": {},
          "execution_count": 8
        }
      ]
    },
    {
      "cell_type": "code",
      "source": [
        "df.shape"
      ],
      "metadata": {
        "colab": {
          "base_uri": "https://localhost:8080/"
        },
        "id": "Jq7KXbdiCfLI",
        "outputId": "fcd95c93-b2e4-4ceb-90fc-e8c9dc5a3c85"
      },
      "execution_count": null,
      "outputs": [
        {
          "output_type": "execute_result",
          "data": {
            "text/plain": [
              "(120, 8)"
            ]
          },
          "metadata": {},
          "execution_count": 9
        }
      ]
    },
    {
      "cell_type": "markdown",
      "source": [
        "## 8 a. Construct a 95% confidence interval for the mean temperature of patients in the dataset\n"
      ],
      "metadata": {
        "id": "JDS1cTVw_B-t"
      }
    },
    {
      "cell_type": "code",
      "source": [
        "## confidence interval for a normal distribution can be calculated using the formula given\n",
        "## 𝑪𝑰 = 𝒑𝒐𝒊𝒏𝒕 𝒆𝒔𝒕𝒊𝒎𝒂𝒕𝒆 ± 𝒎𝒂𝒓𝒈𝒊𝒏 𝒐𝒇 𝒆𝒓𝒓𝒐𝒓(𝒎𝒆)\n",
        "## 𝒎𝒆 = 𝐜. 𝐯 ∗ 𝐒𝐄\n",
        "## 𝐒𝐄 = 𝝈/√𝒏\n",
        "## to simplify we can use stats library\n",
        "\n",
        "n=len(df['temperature'])\n",
        "\n",
        "## compute the mean and standard deviation of the temperature column\n",
        "mean = df['temperature'].mean()\n",
        "std_dev=df['temperature'].std()\n",
        "\n",
        "## compute the standard error of the mean\n",
        "std_err = std_dev / (n ** 0.5)\n",
        "\n",
        "## compute the 95% confidence interval using the normal distribution\n",
        "ci = stats.norm.interval(0.95, loc=mean, scale=std_err)\n",
        "\n",
        "print(\"95% Confidence Interval for the mean temperature of patients: ({:.2f}, {:.2f})\".format(ci[0], ci[1]))"
      ],
      "metadata": {
        "colab": {
          "base_uri": "https://localhost:8080/"
        },
        "id": "DVTQP-Eh-9RQ",
        "outputId": "860a4c9a-e9a0-47d2-c1bd-1daafe6108b6"
      },
      "execution_count": null,
      "outputs": [
        {
          "output_type": "stream",
          "name": "stdout",
          "text": [
            "95% Confidence Interval for the mean temperature of patients: (38.40, 39.05)\n"
          ]
        }
      ]
    },
    {
      "cell_type": "markdown",
      "source": [
        "## 8 b. Construct a 90% confidence interval for the proportion of patients who experience nausea. Based on this interval, is it reasonable to conclude that more than 55% of patients with inflammation of urinary bladder experience nausea"
      ],
      "metadata": {
        "id": "JzlWqREUDUnP"
      }
    },
    {
      "cell_type": "code",
      "source": [
        "## compute the proportion of the patients who experience nausea\n",
        "nausea_df = df[df['nausea'] == 'yes']\n",
        "prop_nausea = round(len(nausea_df)/len(df), 2)\n",
        "\n",
        "##check n*p > 10\n",
        "n=len(df)\n",
        "p=prop_nausea\n",
        "print('n :', n)\n",
        "print('p :', p)\n",
        "print('is n*p > 10? : ', n*p)\n",
        "\n",
        "## compute confidence interval for the proportion using the formula\n",
        "## 𝑪𝑰 = 𝒑𝒐𝒊𝒏𝒕 𝒆𝒔𝒕𝒊𝒎𝒂𝒕𝒆 ± 𝒎𝒂𝒓𝒈𝒊𝒏 𝒐𝒇 𝒆𝒓𝒓𝒐𝒓\n",
        "## 𝒎𝒆 = 𝐜.𝐯 ∗ 𝐒𝐄\n",
        "## SE = sqrt((proportion * (1-proportion))/n)\n",
        "\n",
        "std_err = ((p*(1-p))/n) ** 0.5\n",
        "me = 1.645 * std_err\n",
        "ci_lower = p - me\n",
        "ci_upper = p + me\n",
        "print(\"90% Confidence Interval for the proportion of patients who experience nausea: ({:.2f}, {:.2f})\".format(ci_lower, ci_upper))\n",
        "# ci = prop.proportion_confint(len(nausea_df), n, alpha=0.1, method='normal')\n",
        "# print(ci)"
      ],
      "metadata": {
        "colab": {
          "base_uri": "https://localhost:8080/"
        },
        "id": "J_fp2PLQDl0N",
        "outputId": "377cc36d-5f3f-490b-f37b-421cbe541eb8"
      },
      "execution_count": null,
      "outputs": [
        {
          "output_type": "stream",
          "name": "stdout",
          "text": [
            "n : 120\n",
            "p : 0.24\n",
            "is n*p > 10? :  28.799999999999997\n",
            "90% Confidence Interval for the proportion of patients who experience nausea: (0.18, 0.30)\n"
          ]
        }
      ]
    },
    {
      "cell_type": "markdown",
      "source": [
        "##Based on this interval, is it reasonable to conclude that more than 55% of patients with inflammation of urinary bladder experience nausea?\n",
        "\n",
        "#### The confidence interval tells us that we can be 90% confident that the true proportion of patients who experience nausea falls between 0.18 and 0.30. It does not tell us anything about the proportion of patients who experience nausea beyond these limits. To conclude that more than 55% of patients with inflammation of urinary bladder experience nausea, we would need to know the actual proportion of patients who experience nausea. If the actual proportion is greater than 0.55, then it would be reasonable to conclude that more than 55% of patients experience nausea. However, we do not have this information from the given confidence interval alone.\n"
      ],
      "metadata": {
        "id": "5x48rkVCwvpV"
      }
    },
    {
      "cell_type": "markdown",
      "source": [
        "## 8 c. Conduct a hypothesis test to determine if the average temperature of patients in the dataset is significantly different from 37C"
      ],
      "metadata": {
        "id": "r-6IQ-a7XJOv"
      }
    },
    {
      "cell_type": "code",
      "source": [
        "## 1. define null hypothesis and alternate hypothesis\n",
        "null_hypo=\"average_temp=37\"\n",
        "alternate_hypo=\"average_temp!=37\"\n",
        "\n",
        "# Test the hypothesis at a significance level of 0.05\n",
        "alpha = 0.05\n",
        "\n",
        "## 2. to find t_stat = (mean of temp of sample - 37)/SE\n",
        "## SE = std_dev / sqrt(n)\n",
        "\n",
        "se=df['temperature'].std() / (len(df['temperature']) ** 0.5)\n",
        "t_stat =(df['temperature'].mean() - 37) / se\n",
        "print(\"value of t_stat: \", t_stat)\n",
        "\n",
        "## 3 Find p value of test_stat and compare with alpha\n",
        "p_val = 0.00000 * 2\n",
        "\n",
        "if p_val < alpha:\n",
        "    print(\"p_val {} - rejecting null hypothesis\".format(p_val))\n",
        "else:\n",
        "    print(\"p_val {} - failed to reject null hypothesis\".format(p_val))\n",
        "\n",
        "## confirm the hypothesis result using library\n",
        "print(\"\\n----------Testing using stats library-----------\\n\")\n",
        "# Conduct a one-sample t-test to compare the mean temperature to 37°C\n",
        "t_stat, p_value = stats.ttest_1samp(df['temperature'], 37)\n",
        "\n",
        "# Print the test statistics and p-value\n",
        "print(\"t-statistic: {:.3f}\".format(t_stat))\n",
        "print(\"p-value: {:.3f}\".format(p_value))\n",
        "\n",
        "if p_value < alpha:\n",
        "    print(\"p-val : {:.3f}, alpha: {} - Rejecting null hypothesis as we have strong evidence, thus the average temperature of patients is significantly different from 37°C.\".format(p_value, alpha))\n",
        "else:\n",
        "    print(\"p-val : {:.3f}, alpha: {} - Failed to reject null hypothesis as we don't have strong evidence, thus the average temperature of patients is not significantly different from 37°C.\".format(p_value, alpha))"
      ],
      "metadata": {
        "colab": {
          "base_uri": "https://localhost:8080/"
        },
        "id": "TqtjPIZ9XI7R",
        "outputId": "339ead52-612c-4a64-9fed-7c201cd7d585"
      },
      "execution_count": null,
      "outputs": [
        {
          "output_type": "stream",
          "name": "stdout",
          "text": [
            "value of t_stat:  10.382586030765106\n",
            "p_val 0.0 - rejecting null hypothesis\n",
            "\n",
            "----------Testing using stats library-----------\n",
            "\n",
            "t-statistic: 10.383\n",
            "p-value: 0.000\n",
            "p-val : 0.000, alpha: 0.05 - Rejecting null hypothesis as we have strong evidence, thus the average temperature of patients is significantly different from 37°C.\n"
          ]
        }
      ]
    },
    {
      "cell_type": "markdown",
      "source": [
        "## 8 d. Conduct a hypothesis test to determine if there is a significant difference in the average temperature between patients with and without inflammation of urinary bladder."
      ],
      "metadata": {
        "id": "tqOTQpaqaLux"
      }
    },
    {
      "cell_type": "code",
      "source": [
        "## This is a paired test as temperature is paired with inflmmation.\n",
        "## we can use the formula as 𝑡∗ = 𝑥𝑑 / (𝑠𝑑/n)\n",
        "## solving this using library as given in the notes\n",
        "\n",
        "## 1 . defining null and alternate hypothesis\n",
        "## h_null = \"mean_temp_with_inflammation=mean_temp_without_inflammation\"\n",
        "## h_alt = \"mean_temp_with_inflammation != mean_temp_without_inflammation\"\n",
        "\n",
        "## we can use library for two sample test as shown in the class notes\n",
        "# Split the dataset into two groups based on the presence of inflammation of urinary bladder\n",
        "with_infl = df[df['dec_infl'] == 'yes']['temperature']\n",
        "without_infl = df[df['dec_infl'] == 'no']['temperature']\n",
        "\n",
        "# Conduct a two-sample t-test to compare the means of the two groups\n",
        "t_stat, p_value = stats.ttest_ind(with_infl, without_infl)\n",
        "\n",
        "# Print the test statistics and p-value\n",
        "print(\"t-statistic: {:.3f}\".format(t_stat))\n",
        "print(\"p-value: {:.3f}\".format(p_value))\n",
        "\n",
        "# Test the hypothesis at a significance level of 0.05\n",
        "alpha = 0.05\n",
        "\n",
        "if p_value < alpha:\n",
        "    print(\"p-value : {:.3f}, alpha: {}- rejecting null hypothesis as we have strong evidence. There is a significant difference in the average temperature between patients with and without inflammation of urinary bladder.\".format(p_value, alpha))\n",
        "else:\n",
        "    print(\"p-value : {:.3f}, alpha: {} - failed to reject null hypothesis as we don't have strong evidence. There is not a significant difference in the average temperature between patients with and without inflammation of urinary bladder.\".format(p_value, alpha))"
      ],
      "metadata": {
        "colab": {
          "base_uri": "https://localhost:8080/"
        },
        "id": "s9QUGUGLaIcs",
        "outputId": "4388391e-9956-496c-d82a-3f994d0bcd34"
      },
      "execution_count": null,
      "outputs": [
        {
          "output_type": "stream",
          "name": "stdout",
          "text": [
            "t-statistic: -2.647\n",
            "p-value: 0.009\n",
            "p-value : 0.009, alpha: 0.05- rejecting null hypothesis as we have strong evidence. There is a significant difference in the average temperature between patients with and without inflammation of urinary bladder.\n"
          ]
        }
      ]
    },
    {
      "cell_type": "markdown",
      "source": [
        "## 8 e. Conduct a hypothesis test to determine if the proportion of patients with micturition pains is significantly higher than the proportion with urine pushing"
      ],
      "metadata": {
        "id": "pFxRVfwjFP-5"
      }
    },
    {
      "cell_type": "code",
      "source": [
        "## Conduct hypothesis by comparing two proportions.\n",
        "\n",
        "## 1. Defining null and alternate hypothesis\n",
        "\n",
        "## h_null = \"p_m = p_u\"\n",
        "## h_alt = \"pm > p_u\"\n",
        "\n",
        "m = df[df['mic_pain'] == 'yes']\n",
        "u = df[df['u_push'] == 'yes']\n",
        "\n",
        "## proportion of patients with micturition pains and urine pushing\n",
        "p_m_hat = round(len(m)/len(df), 2)\n",
        "p_u_hat = round(len(u)/len(df), 2)\n",
        "\n",
        "print(p_u_hat, p_m_hat)\n",
        "\n",
        "## 2. test static can be performed using the formula, z = (p_m-hat - p_u-hat) / sqrt(p-hat(1-p-hat)*(1/nm + 1/nu))\n",
        "## where p-hat = (xm + xu) / (nm + nu)\n",
        "## where xm and xu is patients with micturition pains and urine pushing, respectively\n",
        "## and  nm, nu are sample sizes\n",
        "\n",
        "xm = len(m)\n",
        "xu = len(u)\n",
        "nm = nu = len(df)\n",
        "\n",
        "print(xm, xu, nm, nu)\n",
        "\n",
        "p_hat = round((xm + xu) / (nm + nu),2)\n",
        "\n",
        "print(p_hat * (1-p_hat))\n",
        "\n",
        "# print((p_hat(1-p_hat)))\n",
        "z = (p_m_hat-p_u_hat) / ((p_hat * (1-p_hat)*(1/nm + 1/nu)) ** 0.5)\n",
        "\n",
        "p_value = stats.norm.cdf(z)\n",
        "print(p_value)\n",
        "\n",
        "alpha= 0.05\n",
        "\n",
        "print(z)\n",
        "##comparing p value with alpha\n",
        "if p_value < alpha:\n",
        "    print(\"p-value : {:.3f}, alpha: {}- rejecting null hypothesis as we have strong evidence. The proportion of patients with micturition pains is significantly higher than the proportion with urine pushing\".format(p_value, alpha))\n",
        "else:\n",
        "    print(\"p-value : {:.3f}, alpha: {}- failed to reject null hypothesis as we don't have strong evidence. The proportion of patients with micturition pains is not significantly higher than the proportion with urine pushing\".format(p_value, alpha))\n"
      ],
      "metadata": {
        "colab": {
          "base_uri": "https://localhost:8080/"
        },
        "id": "9IiePJALJysR",
        "outputId": "19d9d9b3-2a47-4fde-c173-b417cde9cc20"
      },
      "execution_count": null,
      "outputs": [
        {
          "output_type": "stream",
          "name": "stdout",
          "text": [
            "0.67 0.49\n",
            "59 80 120 120\n",
            "0.2436\n",
            "0.002364461029954593\n",
            "-2.8249416925845505\n",
            "p-value : 0.002, alpha: 0.05- rejecting null hypothesis as we have strong evidence. The proportion of patients with micturition pains is significantly higher than the proportion with urine pushing\n"
          ]
        }
      ]
    }
  ]
}